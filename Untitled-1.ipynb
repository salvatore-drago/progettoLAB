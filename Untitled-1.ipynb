{
 "cells": [
  {
   "cell_type": "code",
   "execution_count": 25,
   "metadata": {},
   "outputs": [
    {
     "name": "stdout",
     "output_type": "stream",
     "text": [
      "1 2\n",
      "1 2\n",
      "1 3\n",
      "3 4\n",
      "2 1\n",
      "3 1\n",
      "3 4\n",
      "2 3\n",
      "1 2\n",
      "2 2\n",
      "4 4\n",
      "4 4\n",
      "3 4\n"
     ]
    }
   ],
   "source": [
    "import random  \n",
    "random.seed(2)\n",
    "stato=random.getstate()\n",
    "random.seed(3)\n",
    "stato2=random.getstate()\n",
    "for i in range(1,14):\n",
    "    random.setstate(stato)   \n",
    "    x=random.randrange(1,5,1)\n",
    "    stato=random.getstate()\n",
    "    random.setstate(stato2)\n",
    "    y=random.randrange(1,5,1)\n",
    "    stato2=random.getstate()\n",
    "    print(x,y)"
   ]
  }
 ],
 "metadata": {
  "interpreter": {
   "hash": "c510962207cb95752e4f598bc83176b884590b9cbf1b2130252586159680fd76"
  },
  "kernelspec": {
   "display_name": "Python 3.9.10 ('tutorial-env')",
   "language": "python",
   "name": "python3"
  },
  "language_info": {
   "codemirror_mode": {
    "name": "ipython",
    "version": 3
   },
   "file_extension": ".py",
   "mimetype": "text/x-python",
   "name": "python",
   "nbconvert_exporter": "python",
   "pygments_lexer": "ipython3",
   "version": "3.9.10"
  },
  "orig_nbformat": 4
 },
 "nbformat": 4,
 "nbformat_minor": 2
}
