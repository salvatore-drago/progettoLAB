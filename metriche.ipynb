{
 "cells": [
  {
   "cell_type": "markdown",
   "metadata": {},
   "source": [
    "# Valutazione Funzione di Rilevamento"
   ]
  },
  {
   "cell_type": "code",
   "execution_count": 4,
   "metadata": {},
   "outputs": [
    {
     "name": "stdout",
     "output_type": "stream",
     "text": [
      "[20, 50, 0.6, 65, 0.1, 0.4]\n",
      "dati.csv\n",
      "risultati.csv\n"
     ]
    }
   ],
   "source": [
    "from funzione_di_rilevamento import get_parametri_rilevamento\n",
    "from funzione_di_rilevamento import get_dati_da_analizzare\n",
    "from funzione_di_rilevamento import get_risultati \n",
    "parametri_rilevamento=list(get_parametri_rilevamento())\n",
    "dati_analizzati=str(get_dati_da_analizzare())\n",
    "risultati_da_leggere=str(get_risultati())\n",
    "file_report='report_metriche.csv'\n",
    "print(parametri_rilevamento)\n",
    "print(dati_analizzati)\n",
    "print(risultati_da_leggere)"
   ]
  },
  {
   "cell_type": "code",
   "execution_count": 11,
   "metadata": {},
   "outputs": [
    {
     "name": "stdout",
     "output_type": "stream",
     "text": [
      "<class 'pandas.core.frame.DataFrame'>\n",
      "RangeIndex: 599 entries, 0 to 598\n",
      "Data columns (total 10 columns):\n",
      " #   Column                    Non-Null Count  Dtype  \n",
      "---  ------                    --------------  -----  \n",
      " 0   Id                        599 non-null    int64  \n",
      " 1   Prima etichetta           599 non-null    object \n",
      " 2   Pr Prima etichetta        599 non-null    int64  \n",
      " 3   Luogo                     599 non-null    object \n",
      " 4   Orario                    599 non-null    int64  \n",
      " 5   Verita Seconda etichetta  599 non-null    object \n",
      " 6   Tipo situazione           599 non-null    object \n",
      " 7   Seconda etichetta         599 non-null    object \n",
      " 8   Pr Seconda etichetta      599 non-null    int64  \n",
      " 9   Incertezza Sistema        599 non-null    float64\n",
      "dtypes: float64(1), int64(4), object(5)\n",
      "memory usage: 46.9+ KB\n"
     ]
    }
   ],
   "source": [
    "import pandas as pd\n",
    "import matplotlib.pyplot as plt\n",
    "import csv\n",
    "\n",
    "dati=pd.read_csv(risultati_da_leggere ,usecols=[\"Id\",\"Prima etichetta\",\"Pr Prima etichetta\",\"Luogo\",\"Orario\",\"Verita Seconda etichetta\",\"Tipo situazione\",\"Seconda etichetta\", \"Pr Seconda etichetta\",\"Incertezza Sistema\"])\n",
    "dati.info()"
   ]
  },
  {
   "cell_type": "markdown",
   "metadata": {},
   "source": [
    "### Positivi=Sospetti ,    Negativi=Non sospetti"
   ]
  },
  {
   "cell_type": "markdown",
   "metadata": {},
   "source": [
    "## Actual condition"
   ]
  },
  {
   "cell_type": "code",
   "execution_count": 4,
   "metadata": {},
   "outputs": [
    {
     "name": "stdout",
     "output_type": "stream",
     "text": [
      "N:527, P:72, T:599\n"
     ]
    }
   ],
   "source": [
    "n=dati[dati['Verita Seconda etichetta']==\"Non sospetto\"]['Id'].count() #numero casi negativi reali nei dati\n",
    "p=dati[dati['Verita Seconda etichetta']==\"Sospetto\"]['Id'].count() #numero casi positivi reali nei dati\n",
    "t=n+p #casi totali\n",
    "print(f'N:{n}, P:{p}, T:{t}')"
   ]
  },
  {
   "cell_type": "markdown",
   "metadata": {},
   "source": [
    "## Predicted condition"
   ]
  },
  {
   "cell_type": "code",
   "execution_count": 5,
   "metadata": {},
   "outputs": [
    {
     "name": "stdout",
     "output_type": "stream",
     "text": [
      "Tn:527, Tp:24, TT:551\n"
     ]
    }
   ],
   "source": [
    "esatti=dati[dati['Verita Seconda etichetta']==dati['Seconda etichetta']]# dati per cui la predizione è esatta\n",
    "Tt=esatti['Id'].count() #numero casi per cui la predizione è esatta\n",
    "Tn=esatti[esatti['Seconda etichetta']==\"Non sospetto\"]['Id'].count() # numero casi  correttamente etichettati come negativo\n",
    "Tp=esatti[esatti['Seconda etichetta']==\"Sospetto\"]['Id'].count() # numero casi correttamente etichettati come positivi\n",
    "print(f'Tn:{Tn}, Tp:{Tp}, TT:{Tt}')\n"
   ]
  },
  {
   "cell_type": "code",
   "execution_count": 6,
   "metadata": {},
   "outputs": [
    {
     "name": "stdout",
     "output_type": "stream",
     "text": [
      "Fn:48, Fp:0, Ft:48\n"
     ]
    }
   ],
   "source": [
    "errati=dati[dati['Verita Seconda etichetta']!=dati['Seconda etichetta']]# dati per cui la predizione è errata\n",
    "Ft=errati['Id'].count() #numero casi per cui la predizione è errata\n",
    "Fn=errati[errati['Seconda etichetta']==\"Non sospetto\"]['Id'].count() # numero casi erroneamente etichettati come negativi\n",
    "Fp=errati[errati['Seconda etichetta']==\"Sospetto\"]['Id'].count() # numero casi erroneamente etichettati come positivi\n",
    "print(f'Fn:{Fn}, Fp:{Fp}, Ft:{Ft}')"
   ]
  },
  {
   "cell_type": "markdown",
   "metadata": {},
   "source": [
    "## Metrics"
   ]
  },
  {
   "cell_type": "code",
   "execution_count": 7,
   "metadata": {},
   "outputs": [
    {
     "name": "stdout",
     "output_type": "stream",
     "text": [
      "Prevalence:0.1202\n"
     ]
    }
   ],
   "source": [
    "Prevalence=round(p/(p+n),4) #prevalenza\n",
    "print(f'Prevalence:{Prevalence}')"
   ]
  },
  {
   "cell_type": "code",
   "execution_count": 8,
   "metadata": {},
   "outputs": [
    {
     "name": "stdout",
     "output_type": "stream",
     "text": [
      "TPR:0.3333, TNR:1.0, PPV:1.0, NPV:0.9165\n"
     ]
    }
   ],
   "source": [
    "tpr= round(Tp/p,4) #sensitivity, recall, hit rate, or true positive rate\n",
    "tnr= round(Tn/n,4) #specificity, selectivity or true negative rate\n",
    "#PPV= round((TPR*Prevalence)/((TPR*Prevalence)+(1-TNR)*(1-Prevalence)),4)\n",
    "ppv= round(Tp/(Tp+Fp),4) #precision, precisione\n",
    "#NPV= round((TNR*(1-Prevalence))/((TNR*(1-Prevalence))+(1-TPR)*Prevalence),4)\n",
    "npv= round(Tn/(Tn+Fn),4) #negative predictive value\n",
    "print(f'TPR:{tpr}, TNR:{tnr}, PPV:{ppv}, NPV:{npv}')"
   ]
  },
  {
   "cell_type": "code",
   "execution_count": 9,
   "metadata": {},
   "outputs": [
    {
     "name": "stdout",
     "output_type": "stream",
     "text": [
      "ACC:0.9199, BA:0.6666, DOR:inf, F_score:0.5\n"
     ]
    },
    {
     "name": "stderr",
     "output_type": "stream",
     "text": [
      "C:\\Users\\Salvatore Drago\\AppData\\Local\\Temp\\ipykernel_15168\\373997920.py:3: RuntimeWarning: divide by zero encountered in longlong_scalars\n",
      "  dor=round((Tp*Tn)/(Fp*Fn),4)  #diagnostic odds ratio\n"
     ]
    }
   ],
   "source": [
    "acc=round((Tp+Tn)/(p+n),4) #accuracy, frazione corretta\n",
    "ba=round((tpr+tnr)/2,4) #balanced accuracy\n",
    "dor=round((Tp*Tn)/(Fp*Fn),4)  #diagnostic odds ratio\n",
    "F_score=round(2*(ppv*tpr)/(ppv+tpr),4) #harmonic mean of precision and sensitivity\n",
    "print(f'ACC:{acc}, BA:{ba}, DOR:{dor}, F_score:{F_score}')"
   ]
  },
  {
   "cell_type": "markdown",
   "metadata": {},
   "source": [
    "#### Incertezza sistema"
   ]
  },
  {
   "cell_type": "code",
   "execution_count": 10,
   "metadata": {},
   "outputs": [
    {
     "name": "stdout",
     "output_type": "stream",
     "text": [
      "I_max:0.75, I_min:0.14, I_media:0.45, I_mediana:0.47, I_moda:0    0.52\n",
      "Name: Incertezza Sistema, dtype: float64\n"
     ]
    },
    {
     "data": {
      "image/png": "[encoded data removed]",
      "text/plain": [
       "<Figure size 432x288 with 1 Axes>"
      ]
     },
     "metadata": {
      "needs_background": "light"
     },
     "output_type": "display_data"
    }
   ],
   "source": [
    "dati.plot.scatter(x=\"Orario\", y=\"Incertezza Sistema\", xlim=(1647349800,1647351279))\n",
    "incertezza_media= round(dati[\"Incertezza Sistema\"].mean(),2)\n",
    "incertezza_max= dati[\"Incertezza Sistema\"].max()\n",
    "incertezza_min= dati[\"Incertezza Sistema\"].min()\n",
    "incertezza_mediana= dati[\"Incertezza Sistema\"].median()\n",
    "incertezza_moda= dati[\"Incertezza Sistema\"].mode()\n",
    "print(f'I_max:{incertezza_max}, I_min:{incertezza_min}, I_media:{incertezza_media}, I_mediana:{incertezza_mediana}, I_moda:{incertezza_moda}')"
   ]
  },
  {
   "cell_type": "markdown",
   "metadata": {},
   "source": [
    "## Salvataggio Metriche"
   ]
  },
  {
   "cell_type": "code",
   "execution_count": 23,
   "metadata": {},
   "outputs": [],
   "source": [
    "with open(file_report, 'a', newline='\\n') as file:\n",
    "    writer = csv.writer(file)\n",
    "    writer.writerow([dati_analizzati,parametri_rilevamento,risultati_da_leggere,n,p,t,Tn,Tp,Tt,Fn,Fp,Ft,Prevalence,tpr,tnr,ppv,npv,acc,ba,dor,F_score,incertezza_media,incertezza_max,incertezza_min,incertezza_mediana])\n",
    "    "
   ]
  }
 ],
 "metadata": {
  "interpreter": {
   "hash": "c510962207cb95752e4f598bc83176b884590b9cbf1b2130252586159680fd76"
  },
  "kernelspec": {
   "display_name": "Python 3.9.10 ('tutorial-env')",
   "language": "python",
   "name": "python3"
  },
  "language_info": {
   "codemirror_mode": {
    "name": "ipython",
    "version": 3
   },
   "file_extension": ".py",
   "mimetype": "text/x-python",
   "name": "python",
   "nbconvert_exporter": "python",
   "pygments_lexer": "ipython3",
   "version": "3.9.10"
  },
  "orig_nbformat": 4
 },
 "nbformat": 4,
 "nbformat_minor": 2
}
