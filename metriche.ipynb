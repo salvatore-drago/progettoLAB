{
 "cells": [
  {
   "cell_type": "markdown",
   "metadata": {},
   "source": [
    "# Valutazione Funzione di Rilevamento"
   ]
  },
  {
   "cell_type": "code",
   "execution_count": 74,
   "metadata": {},
   "outputs": [
    {
     "name": "stdout",
     "output_type": "stream",
     "text": [
      "<class 'pandas.core.frame.DataFrame'>\n",
      "RangeIndex: 599 entries, 0 to 598\n",
      "Data columns (total 10 columns):\n",
      " #   Column                    Non-Null Count  Dtype  \n",
      "---  ------                    --------------  -----  \n",
      " 0   Id                        599 non-null    int64  \n",
      " 1   Prima etichetta           599 non-null    object \n",
      " 2   Pr Prima etichetta        599 non-null    int64  \n",
      " 3   Luogo                     599 non-null    object \n",
      " 4   Orario                    599 non-null    int64  \n",
      " 5   Verita Seconda etichetta  599 non-null    object \n",
      " 6   Tipo situazione           599 non-null    object \n",
      " 7   Seconda etichetta         599 non-null    object \n",
      " 8   Pr Seconda etichetta      599 non-null    float64\n",
      " 9   Incertezza Sistema        599 non-null    float64\n",
      "dtypes: float64(2), int64(3), object(5)\n",
      "memory usage: 46.9+ KB\n"
     ]
    }
   ],
   "source": [
    "import pandas as pd\n",
    "\n",
    "dati=pd.read_csv('risultati.csv' ,usecols=[\"Id\",\"Prima etichetta\",\"Pr Prima etichetta\",\"Luogo\",\"Orario\",\"Verita Seconda etichetta\",\"Tipo situazione\",\"Seconda etichetta\", \"Pr Seconda etichetta\",\"Incertezza Sistema\"])\n",
    "dati.info()"
   ]
  },
  {
   "cell_type": "markdown",
   "metadata": {},
   "source": [
    "### Positivi=Sospetti ,    Negativi=Non sospetti"
   ]
  },
  {
   "cell_type": "markdown",
   "metadata": {},
   "source": [
    "## Actual condition"
   ]
  },
  {
   "cell_type": "code",
   "execution_count": 75,
   "metadata": {},
   "outputs": [
    {
     "name": "stdout",
     "output_type": "stream",
     "text": [
      "527 72 599\n"
     ]
    }
   ],
   "source": [
    "N=dati[dati['Verita Seconda etichetta']==\"Non sospetto\"]['Id'].count() #numero casi negativi reali nei dati\n",
    "P=dati[dati['Verita Seconda etichetta']==\"Sospetto\"]['Id'].count() #numero casi positivi reali nei dati\n",
    "T=N+P #casi totali\n",
    "print(N,P,T)"
   ]
  },
  {
   "cell_type": "markdown",
   "metadata": {},
   "source": [
    "## Predicted condition"
   ]
  },
  {
   "cell_type": "code",
   "execution_count": 93,
   "metadata": {},
   "outputs": [
    {
     "name": "stdout",
     "output_type": "stream",
     "text": [
      "527 24 551\n"
     ]
    }
   ],
   "source": [
    "esatti=dati[dati['Verita Seconda etichetta']==dati['Seconda etichetta']]# dati per cui la predizione è esatta\n",
    "TT=esatti['Id'].count() #numero casi per cui la predizione è esatta\n",
    "TN=esatti[esatti['Seconda etichetta']==\"Non sospetto\"]['Id'].count() # numero casi  correttamente etichettati come negativo\n",
    "TP=esatti[esatti['Seconda etichetta']==\"Sospetto\"]['Id'].count() # numero casi correttamente etichettati come positivi\n",
    "print(TN,TP,TT)\n"
   ]
  },
  {
   "cell_type": "code",
   "execution_count": 95,
   "metadata": {},
   "outputs": [
    {
     "name": "stdout",
     "output_type": "stream",
     "text": [
      "48 0 48\n"
     ]
    }
   ],
   "source": [
    "errati=dati[dati['Verita Seconda etichetta']!=dati['Seconda etichetta']]# dati per cui la predizione è errata\n",
    "TE=errati['Id'].count() #numero casi per cui la predizione è errata\n",
    "FN=errati[errati['Seconda etichetta']==\"Non sospetto\"]['Id'].count() # numero casi erroneamente etichettati come negativi\n",
    "FP=errati[errati['Seconda etichetta']==\"Sospetto\"]['Id'].count() # numero casi erroneamente etichettati come positivi\n",
    "print(FN,FP,TE)"
   ]
  },
  {
   "cell_type": "markdown",
   "metadata": {},
   "source": [
    "## Metrics"
   ]
  },
  {
   "cell_type": "code",
   "execution_count": 97,
   "metadata": {},
   "outputs": [
    {
     "data": {
      "text/plain": [
       "0.12020033388981637"
      ]
     },
     "execution_count": 97,
     "metadata": {},
     "output_type": "execute_result"
    }
   ],
   "source": [
    "Prevalence=P/(P+N) #prevalenza\n",
    "Prevalence"
   ]
  },
  {
   "cell_type": "markdown",
   "metadata": {},
   "source": [
    "### Independent on the prevalence"
   ]
  },
  {
   "cell_type": "markdown",
   "metadata": {},
   "source": [
    "### Dependent on the prevalence"
   ]
  }
 ],
 "metadata": {
  "interpreter": {
   "hash": "c510962207cb95752e4f598bc83176b884590b9cbf1b2130252586159680fd76"
  },
  "kernelspec": {
   "display_name": "Python 3.9.10 ('tutorial-env')",
   "language": "python",
   "name": "python3"
  },
  "language_info": {
   "codemirror_mode": {
    "name": "ipython",
    "version": 3
   },
   "file_extension": ".py",
   "mimetype": "text/x-python",
   "name": "python",
   "nbconvert_exporter": "python",
   "pygments_lexer": "ipython3",
   "version": "3.9.10"
  },
  "orig_nbformat": 4
 },
 "nbformat": 4,
 "nbformat_minor": 2
}
