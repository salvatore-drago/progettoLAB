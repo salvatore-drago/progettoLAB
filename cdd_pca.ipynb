{
 "cells": [
  {
   "cell_type": "markdown",
   "metadata": {},
   "source": [
    "PCA-Based Drift Detection\n",
    "1) Standardizzare l'intervallo dei valori delle feature iniziali per farle contribuire allo stesso modo all'analisi.\n",
    "2) Calcolare la matrici di covarianza delle feature dei due data sets (Old and New).\n",
    "3) Estrarre i vettori degli autovalori associati agli autovettori delle due matrici di covarianza.\n",
    "4) Il grado di deriva tra l'insieme dei dati New e Old viene calcolato misurando l'angolo di intersezione tra gli autovalori dei due insiemi, cioà la varianza delle componenti principali dei due set di dati.\n",
    "5) Se l'angolo è >= ALLARME && < DRIFT viene segnalato un allarme, se l'angolo è >= DRIFT viene segnalato un drift.\n",
    "\n",
    "40° allarme, 50° drift.               in gradi d'arco\n",
    "0,7 allarme, 0,875 drift.             in radianti"
   ]
  },
  {
   "cell_type": "code",
   "execution_count": 152,
   "metadata": {},
   "outputs": [
    {
     "name": "stdout",
     "output_type": "stream",
     "text": [
      "[[-258.93763863 -654.19491326 -570.7438663 ]\n",
      " [-258.70523191 -655.15165221 -570.92558994]\n",
      " [-259.4375307  -653.76023233 -570.98461852]\n",
      " ...\n",
      " [-258.82138476 -654.07704964 -571.45474237]\n",
      " [-259.22645187 -654.94091298 -570.51667721]\n",
      " [-259.7429683  -654.39650835 -572.13457074]]\n",
      "[]\n",
      "Old:              A           B           C\n",
      "0   -258.937639 -654.194913 -570.743866\n",
      "1   -258.705232 -655.151652 -570.925590\n",
      "2   -259.437531 -653.760232 -570.984619\n",
      "3   -259.121990 -654.550492 -571.737737\n",
      "4   -259.557844 -653.905345 -571.012381\n",
      "..          ...         ...         ...\n",
      "145 -258.798988 -654.872263 -571.819494\n",
      "146 -259.473796 -654.991745 -571.522705\n",
      "147 -259.305697 -654.621364 -571.014293\n",
      "148 -258.883881 -654.640936 -571.346336\n",
      "149 -259.249610 -654.842203 -571.043125\n",
      "\n",
      "[150 rows x 3 columns]\n"
     ]
    },
    {
     "name": "stderr",
     "output_type": "stream",
     "text": [
      "c:\\Users\\Salvatore Drago\\Desktop\\progetto_lab\\lib\\site-packages\\skmultiflow\\data\\base_stream.py:194: FutureWarning: 'prepare_for_use' has been deprecated in v0.5.0 and will be removed in v0.7.0.\n",
      "New instances of the Stream class are now ready to use after instantiation.\n",
      "  category=FutureWarning)\n"
     ]
    }
   ],
   "source": [
    "import pandas as pd\n",
    "import numpy as np\n",
    "import csv\n",
    "import skmultiflow as sk\n",
    "import sklearn.decomposition as dec\n",
    "import scipy.linalg as lin\n",
    "size=150\n",
    "dataset=pd.read_csv('SRdrift.csv' ,usecols=[\"A\",\"B\",\"C\"])\n",
    "data_stream= sk.data.DataStream(dataset ,y=None, n_targets=0)\n",
    "data_stream.print_df()\n",
    "data_stream.prepare_for_use()\n",
    " \n",
    "data=data_stream.next_sample(batch_size=size)[0]\n",
    "old_w=pd.DataFrame(data, columns=['A','B','C'])\n",
    "print(f\"Old:{old_w}\")"
   ]
  },
  {
   "cell_type": "code",
   "execution_count": 166,
   "metadata": {},
   "outputs": [
    {
     "name": "stdout",
     "output_type": "stream",
     "text": [
      "New:              A           B           C\n",
      "0   -259.057466 -654.704487 -572.921370\n",
      "1   -260.029719 -654.844334 -570.884649\n",
      "2   -259.045381 -654.098039 -571.250460\n",
      "3   -258.608910 -653.666116 -570.872913\n",
      "4   -259.573840 -653.962251 -571.477056\n",
      "..          ...         ...         ...\n",
      "145   98.766563   99.875604  -29.183929\n",
      "146   98.995751   99.785678  -29.427856\n",
      "147   98.985664   99.782940  -29.302660\n",
      "148   98.897559   99.992909  -29.277720\n",
      "149   98.984779   99.919394  -29.467548\n",
      "\n",
      "[150 rows x 3 columns]\n"
     ]
    }
   ],
   "source": [
    "data=data_stream.next_sample(batch_size=size)[0]\n",
    "new_w=pd.DataFrame(data, columns=['A','B','C'])\n",
    "print(f\"New:{new_w}\")"
   ]
  },
  {
   "cell_type": "code",
   "execution_count": 167,
   "metadata": {},
   "outputs": [
    {
     "name": "stdout",
     "output_type": "stream",
     "text": [
      "OLD eigenvalues: [6.98529179e+04 1.26851200e+04 2.18518828e-01]\n"
     ]
    }
   ],
   "source": [
    "pca_old=dec.PCA(n_components=None, copy=True, whiten=False, svd_solver='auto')\n",
    "pca_old.fit(old_w)\n",
    "old_eigenvalues= pca_old.explained_variance_\n",
    "print(f\"OLD eigenvalues: {old_eigenvalues}\")\n"
   ]
  },
  {
   "cell_type": "code",
   "execution_count": 168,
   "metadata": {},
   "outputs": [
    {
     "name": "stdout",
     "output_type": "stream",
     "text": [
      "NEW eigenvalues: [315235.11852542  63846.51211114    546.82795949]\n"
     ]
    }
   ],
   "source": [
    "pca_new=dec.PCA(n_components=None, copy=True, whiten=False, svd_solver='auto')\n",
    "pca_new.fit(new_w)\n",
    "new_eigenvalues= pca_new.explained_variance_\n",
    "print(f\"NEW eigenvalues: {new_eigenvalues}\")"
   ]
  },
  {
   "cell_type": "code",
   "execution_count": 169,
   "metadata": {},
   "outputs": [
    {
     "name": "stdout",
     "output_type": "stream",
     "text": [
      "[6.98529179e+04 1.26851200e+04 2.18518828e-01] [315235.11852542  63846.51211114    546.82795949]\n",
      "22829993626.443005\n",
      "0.9997946875763863\n",
      "0.020264227077794603\n"
     ]
    }
   ],
   "source": [
    "v1=np.array([1,3])\n",
    "v2=np.array([4,2])\n",
    "print(old_eigenvalues,new_eigenvalues)\n",
    "print(np.dot(old_eigenvalues,new_eigenvalues))\n",
    "print((np.dot(old_eigenvalues,new_eigenvalues))/((np.linalg.norm(old_eigenvalues)*np.linalg.norm(new_eigenvalues))))\n",
    "angolo= np.arccos((np.dot(old_eigenvalues,new_eigenvalues))/((np.linalg.norm(old_eigenvalues)*np.linalg.norm(new_eigenvalues))))\n",
    "\n",
    "print(angolo)"
   ]
  }
 ],
 "metadata": {
  "kernelspec": {
   "display_name": "Python 3.7.0 ('progetto_lab')",
   "language": "python",
   "name": "python3"
  },
  "language_info": {
   "codemirror_mode": {
    "name": "ipython",
    "version": 3
   },
   "file_extension": ".py",
   "mimetype": "text/x-python",
   "name": "python",
   "nbconvert_exporter": "python",
   "pygments_lexer": "ipython3",
   "version": "3.7.0"
  },
  "orig_nbformat": 4,
  "vscode": {
   "interpreter": {
    "hash": "905c49dbd75591498945a2dea78e0d5411f037d4136ef1b5837f68be76798d77"
   }
  }
 },
 "nbformat": 4,
 "nbformat_minor": 2
}
